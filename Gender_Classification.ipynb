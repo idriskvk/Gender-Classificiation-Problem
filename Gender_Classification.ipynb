{
 "cells": [
  {
   "cell_type": "code",
   "execution_count": 3,
   "metadata": {},
   "outputs": [],
   "source": [
    "# IMPORTING THE PACKAGES# \n",
    "from sklearn import tree\n",
    "from sklearn.neighbors import KNeighborsClassifier\n",
    "from sklearn.discriminant_analysis import LinearDiscriminantAnalysis\n",
    "from sklearn.naive_bayes import GaussianNB\n",
    "from sklearn.ensemble import RandomForestClassifier"
   ]
  },
  {
   "cell_type": "code",
   "execution_count": 4,
   "metadata": {},
   "outputs": [],
   "source": [
    "# MAKING A LIST FOR CLASSIFIERS & NAMES \n",
    "Classifiers = [tree.DecisionTreeClassifier(),\n",
    "               KNeighborsClassifier(3),\n",
    "              LinearDiscriminantAnalysis(),\n",
    "               GaussianNB(),\n",
    "               RandomForestClassifier()\n",
    "              ]\n",
    "Names = [\"Decision Tree\",\"Nearest Neighbors\",\"LDA\",\"Naive Bayes\", \"Random Forest\"]"
   ]
  },
  {
   "cell_type": "code",
   "execution_count": 5,
   "metadata": {},
   "outputs": [],
   "source": [
    "# LIST FOR INDEPENDENT VARIBLES: HEIGHT, WEIGHT & SHOE SIZE\n",
    "X = [[181, 80, 44], [177, 70, 43], [160, 60, 38], [154, 54, 37], [166, 65, 40],\n",
    "     [190, 90, 47], [175, 64, 39],\n",
    "     [177, 70, 40], [159, 55, 37], [171, 75, 42], [181, 85, 43]]\n",
    "\n",
    "# LIST FOR DEPENDENT VARIABLE: SEX\n",
    "Y = ['male', 'male', 'female', 'female', 'male', 'male', 'female', 'female',\n",
    "     'female', 'male', 'male']"
   ]
  },
  {
   "cell_type": "code",
   "execution_count": 6,
   "metadata": {},
   "outputs": [
    {
     "name": "stdout",
     "output_type": "stream",
     "text": [
      "Decision Tree Accuracy: 1.0\n",
      "Nearest Neighbors Accuracy: 0.82\n",
      "LDA Accuracy: 1.0\n",
      "Naive Bayes Accuracy: 0.82\n",
      "Random Forest Accuracy: 0.91\n"
     ]
    },
    {
     "name": "stderr",
     "output_type": "stream",
     "text": [
      "/anaconda3/envs/machine/lib/python3.6/site-packages/sklearn/ensemble/forest.py:246: FutureWarning: The default value of n_estimators will change from 10 in version 0.20 to 100 in 0.22.\n",
      "  \"10 in version 0.20 to 100 in 0.22.\", FutureWarning)\n"
     ]
    }
   ],
   "source": [
    "# FOR LOOP IN ORDER TO TO PRINT THE ACCURACY FOR EACH MODEL\n",
    "for clf,name in zip(Classifiers,Names):\n",
    "    clf = clf.fit(X,Y)\n",
    "    prediction = clf.predict(X)\n",
    "    print(name,\"Accuracy:\",(sum(prediction==Y)/len(Y)).round(2))\n",
    "    "
   ]
  }
 ],
 "metadata": {
  "kernelspec": {
   "display_name": "Python 3",
   "language": "python",
   "name": "python3"
  },
  "language_info": {
   "codemirror_mode": {
    "name": "ipython",
    "version": 3
   },
   "file_extension": ".py",
   "mimetype": "text/x-python",
   "name": "python",
   "nbconvert_exporter": "python",
   "pygments_lexer": "ipython3",
   "version": "3.6.8"
  }
 },
 "nbformat": 4,
 "nbformat_minor": 2
}
